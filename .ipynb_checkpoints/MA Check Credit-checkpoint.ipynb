{
 "cells": [
  {
   "cell_type": "code",
   "execution_count": null,
   "id": "5deb2254",
   "metadata": {},
   "outputs": [],
   "source": [
    "#!pip install PyPDF2"
   ]
  },
  {
   "cell_type": "code",
   "execution_count": null,
   "id": "23fe8234",
   "metadata": {},
   "outputs": [],
   "source": [
    "#!pip install regex"
   ]
  },
  {
   "cell_type": "code",
   "execution_count": 12,
   "id": "0c77c45e",
   "metadata": {},
   "outputs": [],
   "source": [
    "from pdf_to_text import extract_text_from_pdf\n",
    "from extract_details import extract_detail\n",
    "from classification import get_information"
   ]
  },
  {
   "cell_type": "code",
   "execution_count": 16,
   "id": "413857bb",
   "metadata": {},
   "outputs": [
    {
     "name": "stdout",
     "output_type": "stream",
     "text": [
      "Course Dictionary\n",
      "{'ALL_COURSE': [['MUGE100', 'GENERAL ED FOR HUMAN DEVELOP', '3', 'O'], ['LATH100', 'ARTS OF USING THAI LANG IN COM', '3', 'S'], ['LAEN103', 'ENGLISH LEVEL I', '3', 'S'], ['LAEN104', 'ENGLISH LEVEL II', '3', 'O'], ['MUGE100', 'GENERAL ED FOR HUMAN DEVELOP', '3', 'O'], ['LATH100', 'ARTS OF USING THAI LANG IN COM', '3', 'S'], ['LAEN103', 'ENGLISH LEVEL I', '3', 'S'], ['LAEN104', 'ENGLISH LEVEL II', '3', 'O'], ['SHSS187', 'MODERN LIVING INSTRUCTION', '2', 'O'], ['SHHU157', 'CULTURES AND FOOD', '2', 'S'], ['SCPY191', 'INTRODUCTORY PHYSICS LAB', '1', 'A'], ['SCPY157', 'PHYSICS I', '3', 'B+'], ['SCMA118', 'CALCULUS', '3', 'A'], ['SCCH103', 'GENERAL CHEMISTRY I', '3', 'B'], ['SCBI121', 'GENERAL BIOLOGY I', '2', 'B'], ['SCBI102', 'BIOLOGY LABORATORY I', '1', 'A'], ['SCPY158', 'PHYSICS II', '3', 'C+'], ['SCCH107', 'GENERAL CHEMISTRY LAB', '1', 'S'], ['SCCH104', 'GENERAL CHEMISTRY II', '3', 'C'], ['SCBI122', 'GENERAL BIOLOGY II', '3', 'D'], ['SCBI104', 'BIOLOGY LABORATORY II', '1', 'B+'], ['SCMA212', 'CAL', '3', 'A'], ['SCMA168', 'ODE', '3', 'B+'], ['SCMA280', 'PROBABILITY', '3', 'A'], ['SCMA251', 'LINEAR  ALGEBRA', '3', 'A'], ['SCMA240', 'COMPUTER PROGRAMMING', '3', 'A'], ['SCMA211', 'PRINCIPLES OF MATHS', '3', 'B'], ['SCMA284', 'STATISTICS', '3', 'A'], ['SCMA263', 'DIFFERENTIAL EQUATIONS', '3', 'B'], ['SCMA248', 'INTRODUCTION TO DATA  SCIENECE', '3', 'A'], ['SCMA221', 'VECTOR ANALYSIS', '3', 'A'], ['SCMA215', 'ADVANCED CALCULUS', '3', 'C'], ['SCMA342', 'NUMERICAL ANALYSIS', '3', 'A'], ['SCMA322', 'MATHEMATICAL ANALYSIS', '3', 'A'], ['SCMA354', 'ABSTRACT ALGEBRA I', '3', 'B'], ['SCMA320', 'COMPLEX VARIABLES', '3', 'A'], ['SCMA483', 'LINEAR REGRESSION ANALYSIS', '3', 'A'], ['SCMA475', 'OPERATIONS RESEARCH', '3', 'B+'], ['SCMA444', 'MATHEMATICS FOR AI', '3', 'A'], ['SCMA247', 'DATA STRUCT IN MATH', '3', 'A'], ['SCMA492', 'SPECIAL TOPICS IV', '3', 'A'], ['SCMA491', 'SPECIAL TOPICS III', '3', 'A'], ['SCMA482', 'TIME SERIES METHOD', '3', 'B+'], ['SCMA341', 'DESIGN', '3', 'B+']], 'GENED_UNI': [['MUGE100', 'GENERAL ED FOR HUMAN DEVELOP', '3', 'O'], ['LATH100', 'ARTS OF USING THAI LANG IN COM', '3', 'S'], ['LAEN103', 'ENGLISH LEVEL I', '3', 'S'], ['LAEN104', 'ENGLISH LEVEL II', '3', 'O']], 'GENED_DEP': [['LAEN136', 'READ', '3', 'S'], ['LAEN222', 'EFFECTIVE PRESENTATIONS IN ENG', '2', 'S'], ['SCMA311', 'UNDERSTANDING OTHERS', '2', 'S'], ['SHSS187', 'MODERN LIVING INSTRUCTION', '2', 'O'], ['SHHU157', 'CULTURES AND FOOD', '2', 'S']], 'COURSE_CORE': [['SCPY191', 'INTRODUCTORY PHYSICS LAB', '1', 'A'], ['SCPY157', 'PHYSICS I', '3', 'B+'], ['SCMA118', 'CALCULUS', '3', 'A'], ['SCCH103', 'GENERAL CHEMISTRY I', '3', 'B'], ['SCBI121', 'GENERAL BIOLOGY I', '2', 'B'], ['SCBI102', 'BIOLOGY LABORATORY I', '1', 'A'], ['SCPY158', 'PHYSICS II', '3', 'C+'], ['SCCH107', 'GENERAL CHEMISTRY LAB', '1', 'S'], ['SCCH104', 'GENERAL CHEMISTRY II', '3', 'C'], ['SCBI122', 'GENERAL BIOLOGY II', '3', 'D'], ['SCBI104', 'BIOLOGY LABORATORY II', '1', 'B+'], ['SCMA212', 'CAL', '3', 'A']], 'COURSE_MATH': [['SCMA168', 'ODE', '3', 'B+'], ['SCMA280', 'PROBABILITY', '3', 'A'], ['SCMA251', 'LINEAR  ALGEBRA', '3', 'A'], ['SCMA240', 'COMPUTER PROGRAMMING', '3', 'A'], ['SCMA211', 'PRINCIPLES OF MATHS', '3', 'B'], ['SCMA284', 'STATISTICS', '3', 'A'], ['SCMA263', 'DIFFERENTIAL EQUATIONS', '3', 'B'], ['SCMA248', 'INTRODUCTION TO DATA  SCIENECE', '3', 'A'], ['SCMA221', 'VECTOR ANALYSIS', '3', 'A'], ['SCMA215', 'ADVANCED CALCULUS', '3', 'C'], ['SCMA342', 'NUMERICAL ANALYSIS', '3', 'A'], ['SCMA322', 'MATHEMATICAL ANALYSIS', '3', 'A'], ['SCMA354', 'ABSTRACT ALGEBRA I', '3', 'B'], ['SCMA320', 'COMPLEX VARIABLES', '3', 'A']], 'COURSE_OPT': [['SCMA483', 'LINEAR REGRESSION ANALYSIS', '3', 'A'], ['SCMA475', 'OPERATIONS RESEARCH', '3', 'B+'], ['SCMA444', 'MATHEMATICS FOR AI', '3', 'A'], ['SCMA247', 'DATA STRUCT IN MATH', '3', 'A'], ['SCMA492', 'SPECIAL TOPICS IV', '3', 'A'], ['SCMA491', 'SPECIAL TOPICS III', '3', 'A'], ['SCMA482', 'TIME SERIES METHOD', '3', 'B+'], ['SCMA341', 'DESIGN', '3', 'B+']], 'ELECTIVE': []}    \n",
      "\n",
      "Credit Dictionary\n",
      "{'TOTAL_CREDIT': 121, 'GENED_UNI_CREDIT': 12, 'GENED_DEP_CREDIT': 11, 'COURSE_CORE_CREDIT': 27, 'COURSE_MATH_CREDIT': 42, 'COURSE_OPT_CREDIT': 24, 'ELECTIVE_CREDIT': 0}    \n",
      "\n",
      "Suggest Dictionary\n",
      "{'TOTAL_CREDIT': 10, 'GENED_UNI_CREDIT': 0, 'GENED_DEP_CREDIT': 7, 'COURSE_CORE_CREDIT': 0, 'COURSE_MATH_CREDIT': 4, 'COURSE_OPT_CREDIT': -3, 'ELECTIVE_CREDIT': 6}\n"
     ]
    }
   ],
   "source": [
    "#input path of transcript\n",
    "pdf_path = \"grade.pdf\"\n",
    "\n",
    "pdf_text = extract_text_from_pdf(pdf_path)\n",
    "\n",
    "detail = extract_detail(pdf_text)\n",
    "\n",
    "classifeid, summary, suggest = get_information(detail, is_distinct = False)\n",
    "print(f\"Course Dictionary\\n{classifeid}\\\n",
    "    \\n\\nCredit Dictionary\\n{summary}\\\n",
    "    \\n\\nSuggest Dictionary\\n{suggest}\")"
   ]
  },
  {
   "cell_type": "code",
   "execution_count": null,
   "id": "6c5f224e",
   "metadata": {},
   "outputs": [],
   "source": []
  }
 ],
 "metadata": {
  "kernelspec": {
   "display_name": "Python 3 (ipykernel)",
   "language": "python",
   "name": "python3"
  },
  "language_info": {
   "codemirror_mode": {
    "name": "ipython",
    "version": 3
   },
   "file_extension": ".py",
   "mimetype": "text/x-python",
   "name": "python",
   "nbconvert_exporter": "python",
   "pygments_lexer": "ipython3",
   "version": "3.9.12"
  }
 },
 "nbformat": 4,
 "nbformat_minor": 5
}
